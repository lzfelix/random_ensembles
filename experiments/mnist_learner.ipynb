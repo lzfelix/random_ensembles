{
 "cells": [
  {
   "cell_type": "code",
   "execution_count": 1,
   "metadata": {},
   "outputs": [],
   "source": [
    "%load_ext autoreload\n",
    "%autoreload 2\n",
    "\n",
    "import time\n",
    "\n",
    "import numpy as np\n",
    "import torch\n",
    "from torch.nn import functional as F\n",
    "from torch import optim as torch_opt\n",
    "\n",
    "from flare import trainer\n",
    "from flare.callbacks import Checkpoint\n",
    "\n",
    "from models.mnist import ConvNet\n",
    "from models import datasets\n",
    "\n",
    "device = torch.device('cpu')\n",
    "pin_memory = False\n",
    "if torch.cuda.is_available():\n",
    "    device = torch.device('cuda')\n",
    "    pin_memory = True\n",
    "    torch.backends.cudnn.benchmark = True"
   ]
  },
  {
   "cell_type": "code",
   "execution_count": 2,
   "metadata": {},
   "outputs": [],
   "source": [
    "def _ceil(x):\n",
    "    return int(np.round(x))\n",
    "\n",
    "callno = 0\n",
    "scoreboard = dict()\n",
    "def make_target_fn(model_prefix, _device, model_class, trn_gen, val_gen, n_epochs, image_sz, n_classes, hyperparams):\n",
    "    def target_fn(hyperparam_values):\n",
    "        global callno\n",
    "        global scoreboard\n",
    "\n",
    "        # Ensuring that hyperparams is a 1D-tensor\n",
    "        hyperparam_values = np.asarray(hyperparam_values).ravel()\n",
    "\n",
    "        model_hyperparams = {hname: _ceil(hvalue) for hname, hvalue in zip(hyperparams, hyperparam_values)}\n",
    "        model = model_class(image_sz, n_classes, **model_hyperparams)\n",
    "        print(model)\n",
    "\n",
    "        model = model.to(_device)\n",
    "        loss_fn = F.nll_loss\n",
    "\n",
    "        # The last hyperparam is the learning rate. We could use momentum, whatever as well\n",
    "        nn_optimizer = torch_opt.SGD(model.parameters(), lr=hyperparam_values[-1], momentum=hyperparam_values[-2])\n",
    "\n",
    "        filename = '{}_{}'.format(model_prefix, callno)\n",
    "        cbs = [Checkpoint('val_accuracy', min_delta=1e-3, filename=filename, save_best=True, increasing=True)]\n",
    "\n",
    "        # Training\n",
    "        history = trainer.train_on_loader(model, trn_gen, val_gen, loss_fn, nn_optimizer,\n",
    "                                          n_epochs=n_epochs, batch_first=True, device=_device,\n",
    "                                          callbacks=cbs)\n",
    "        \n",
    "        # Getting the best model during training to evaluate\n",
    "        best_model = torch.load(filename + '.pth').to(_device)\n",
    "        eval_metrics = trainer.evaluate_on_loader(best_model, val_gen, loss_fn, batch_first=True,\n",
    "                                                  device=_device, verbosity=0)\n",
    "        \n",
    "        # Opytimizer minimizes functions\n",
    "        fitness = 1 - eval_metrics['accuracy']\n",
    "        scoreboard[callno] = fitness\n",
    "        callno += 1        \n",
    "        return fitness\n",
    "    return target_fn"
   ]
  },
  {
   "cell_type": "code",
   "execution_count": 3,
   "metadata": {},
   "outputs": [
    {
     "name": "stdout",
     "output_type": "stream",
     "text": [
      "2019-08-03 11:23:39,461 - opytimizer.spaces.search — INFO — Overriding class: Space -> SearchSpace.\n",
      "2019-08-03 11:23:39,463 - opytimizer.core.space — DEBUG — Running private method: build().\n",
      "2019-08-03 11:23:39,463 - opytimizer.core.space — DEBUG — Running private method: check_bound_size().\n",
      "2019-08-03 11:23:39,464 - opytimizer.core.space — DEBUG — Bound checked.\n",
      "2019-08-03 11:23:39,465 - opytimizer.core.space — DEBUG — Running private method: check_bound_size().\n",
      "2019-08-03 11:23:39,466 - opytimizer.core.space — DEBUG — Bound checked.\n",
      "2019-08-03 11:23:39,466 - opytimizer.core.space — DEBUG — Running private method: create_agents().\n",
      "2019-08-03 11:23:39,468 - opytimizer.core.space — DEBUG — Agents: 2 | Size: (6, 1) | Iterations: 2 | Lower Bound: [1, 2, 1, 2, 0.001, 0] | Upper Bound: [20, 9, 20, 9, 0.01, 1] | Built: True.\n",
      "2019-08-03 11:23:39,468 - opytimizer.spaces.search — DEBUG — Running private method: initialize_agents().\n",
      "2019-08-03 11:23:39,469 - opytimizer.spaces.search — DEBUG — Agents initialized.\n",
      "2019-08-03 11:23:39,470 - opytimizer.spaces.search — INFO — Class overrided.\n",
      "2019-08-03 11:23:39,471 - opytimizer.optimizers.fa — INFO — Overriding class: Optimizer -> FA.\n",
      "2019-08-03 11:23:39,471 - opytimizer.optimizers.fa — DEBUG — Running private method: build().\n",
      "2019-08-03 11:23:39,472 - opytimizer.optimizers.fa — DEBUG — Algorithm: FA | Hyperparameters: alpha = 0.5, beta = 0.2, gamma = 1.0 | Built: True.\n",
      "2019-08-03 11:23:39,473 - opytimizer.optimizers.fa — INFO — Class overrided.\n",
      "2019-08-03 11:23:39,474 - opytimizer.core.function — INFO — Creating class: Function.\n",
      "2019-08-03 11:23:39,475 - opytimizer.core.function — DEBUG — Running private method: build().\n",
      "2019-08-03 11:23:39,476 - opytimizer.core.function — DEBUG — Pointer: <function make_target_fn.<locals>.target_fn at 0x7ff2097a8bf8> | Built: True\n",
      "2019-08-03 11:23:39,477 - opytimizer.core.function — INFO — Class created.\n",
      "2019-08-03 11:23:39,478 - opytimizer.opytimizer — INFO — Creating class: Opytimizer.\n",
      "2019-08-03 11:23:39,479 - opytimizer.opytimizer — DEBUG — Space: <opytimizer.spaces.search.SearchSpace object at 0x7ff20b3ea9e8> | Optimizer: <opytimizer.optimizers.fa.FA object at 0x7ff2097a4668> | Function: <opytimizer.core.function.Function object at 0x7ff2097a4710>.\n",
      "2019-08-03 11:23:39,480 - opytimizer.opytimizer — INFO — Class created.\n",
      "2019-08-03 11:23:39,481 - opytimizer.opytimizer — INFO — Starting optimization task.\n",
      "ConvNet(\n",
      "  (conv1): Conv2d(1, 17, kernel_size=(7, 7), stride=(1, 1))\n",
      "  (conv2): Conv2d(17, 19, kernel_size=(7, 7), stride=(1, 1))\n",
      "  (conv2_drop): Dropout2d(p=0.5)\n",
      "  (fc1): Linear(in_features=76, out_features=50, bias=True)\n",
      "  (fc2): Linear(in_features=50, out_features=10, bias=True)\n",
      ")\n"
     ]
    },
    {
     "data": {
      "application/vnd.jupyter.widget-view+json": {
       "model_id": "8dfaf440549c4819a550afeca413b40f",
       "version_major": 2,
       "version_minor": 0
      },
      "text/plain": [
       "HBox(children=(IntProgress(value=0, max=375), HTML(value='')))"
      ]
     },
     "metadata": {},
     "output_type": "display_data"
    },
    {
     "name": "stdout",
     "output_type": "stream",
     "text": [
      "\n"
     ]
    },
    {
     "data": {
      "application/vnd.jupyter.widget-view+json": {
       "model_id": "59e2dc5e2072490584da3c416a10e0fc",
       "version_major": 2,
       "version_minor": 0
      },
      "text/plain": [
       "HBox(children=(IntProgress(value=0, max=375), HTML(value='')))"
      ]
     },
     "metadata": {},
     "output_type": "display_data"
    },
    {
     "name": "stdout",
     "output_type": "stream",
     "text": [
      "\n"
     ]
    },
    {
     "data": {
      "application/vnd.jupyter.widget-view+json": {
       "model_id": "00de55b70c244574bb0511710eb58abe",
       "version_major": 2,
       "version_minor": 0
      },
      "text/plain": [
       "HBox(children=(IntProgress(value=0, max=375), HTML(value='')))"
      ]
     },
     "metadata": {},
     "output_type": "display_data"
    },
    {
     "name": "stdout",
     "output_type": "stream",
     "text": [
      "\n",
      "ConvNet(\n",
      "  (conv1): Conv2d(1, 13, kernel_size=(8, 8), stride=(1, 1))\n",
      "  (conv2): Conv2d(13, 4, kernel_size=(9, 9), stride=(1, 1))\n",
      "  (conv2_drop): Dropout2d(p=0.5)\n",
      "  (fc1): Linear(in_features=4, out_features=50, bias=True)\n",
      "  (fc2): Linear(in_features=50, out_features=10, bias=True)\n",
      ")\n"
     ]
    },
    {
     "data": {
      "application/vnd.jupyter.widget-view+json": {
       "model_id": "43d46f8da15f4274aae5d75daf042832",
       "version_major": 2,
       "version_minor": 0
      },
      "text/plain": [
       "HBox(children=(IntProgress(value=0, max=375), HTML(value='')))"
      ]
     },
     "metadata": {},
     "output_type": "display_data"
    },
    {
     "name": "stdout",
     "output_type": "stream",
     "text": [
      "\n"
     ]
    },
    {
     "data": {
      "application/vnd.jupyter.widget-view+json": {
       "model_id": "0f7a42410e6a47f3ba63595d33ef4c69",
       "version_major": 2,
       "version_minor": 0
      },
      "text/plain": [
       "HBox(children=(IntProgress(value=0, max=375), HTML(value='')))"
      ]
     },
     "metadata": {},
     "output_type": "display_data"
    },
    {
     "name": "stdout",
     "output_type": "stream",
     "text": [
      "\n"
     ]
    },
    {
     "data": {
      "application/vnd.jupyter.widget-view+json": {
       "model_id": "d79966a2dd5843c193473a3e81115458",
       "version_major": 2,
       "version_minor": 0
      },
      "text/plain": [
       "HBox(children=(IntProgress(value=0, max=375), HTML(value='')))"
      ]
     },
     "metadata": {},
     "output_type": "display_data"
    },
    {
     "name": "stdout",
     "output_type": "stream",
     "text": [
      "\n",
      "2019-08-03 11:25:37,268 - opytimizer.optimizers.fa — INFO — Iteration 1/2\n",
      "ConvNet(\n",
      "  (conv1): Conv2d(1, 17, kernel_size=(7, 7), stride=(1, 1))\n",
      "  (conv2): Conv2d(17, 19, kernel_size=(7, 7), stride=(1, 1))\n",
      "  (conv2_drop): Dropout2d(p=0.5)\n",
      "  (fc1): Linear(in_features=76, out_features=50, bias=True)\n",
      "  (fc2): Linear(in_features=50, out_features=10, bias=True)\n",
      ")\n"
     ]
    },
    {
     "data": {
      "application/vnd.jupyter.widget-view+json": {
       "model_id": "79f1224f99c3482c8d454dd688556fd3",
       "version_major": 2,
       "version_minor": 0
      },
      "text/plain": [
       "HBox(children=(IntProgress(value=0, max=375), HTML(value='')))"
      ]
     },
     "metadata": {},
     "output_type": "display_data"
    },
    {
     "name": "stdout",
     "output_type": "stream",
     "text": [
      "\n"
     ]
    },
    {
     "data": {
      "application/vnd.jupyter.widget-view+json": {
       "model_id": "c5c2e09235af495799a92e96aa6fbfa2",
       "version_major": 2,
       "version_minor": 0
      },
      "text/plain": [
       "HBox(children=(IntProgress(value=0, max=375), HTML(value='')))"
      ]
     },
     "metadata": {},
     "output_type": "display_data"
    },
    {
     "name": "stdout",
     "output_type": "stream",
     "text": [
      "\n"
     ]
    },
    {
     "data": {
      "application/vnd.jupyter.widget-view+json": {
       "model_id": "41ec1d0a3c5a46588d9a86e3647b7876",
       "version_major": 2,
       "version_minor": 0
      },
      "text/plain": [
       "HBox(children=(IntProgress(value=0, max=375), HTML(value='')))"
      ]
     },
     "metadata": {},
     "output_type": "display_data"
    },
    {
     "name": "stdout",
     "output_type": "stream",
     "text": [
      "\n",
      "ConvNet(\n",
      "  (conv1): Conv2d(1, 1, kernel_size=(2, 2), stride=(1, 1))\n",
      "  (conv2): Conv2d(1, 1, kernel_size=(2, 2), stride=(1, 1))\n",
      "  (conv2_drop): Dropout2d(p=0.5)\n",
      "  (fc1): Linear(in_features=36, out_features=50, bias=True)\n",
      "  (fc2): Linear(in_features=50, out_features=10, bias=True)\n",
      ")\n"
     ]
    },
    {
     "data": {
      "application/vnd.jupyter.widget-view+json": {
       "model_id": "02535a6092c54d259ef79f667c00bb22",
       "version_major": 2,
       "version_minor": 0
      },
      "text/plain": [
       "HBox(children=(IntProgress(value=0, max=375), HTML(value='')))"
      ]
     },
     "metadata": {},
     "output_type": "display_data"
    },
    {
     "name": "stdout",
     "output_type": "stream",
     "text": [
      "\n"
     ]
    },
    {
     "data": {
      "application/vnd.jupyter.widget-view+json": {
       "model_id": "9ed675f9c7354e17830d8e08b7e351e9",
       "version_major": 2,
       "version_minor": 0
      },
      "text/plain": [
       "HBox(children=(IntProgress(value=0, max=375), HTML(value='')))"
      ]
     },
     "metadata": {},
     "output_type": "display_data"
    },
    {
     "name": "stdout",
     "output_type": "stream",
     "text": [
      "\n"
     ]
    },
    {
     "data": {
      "application/vnd.jupyter.widget-view+json": {
       "model_id": "a0b726509529443a96459b7e521a30e1",
       "version_major": 2,
       "version_minor": 0
      },
      "text/plain": [
       "HBox(children=(IntProgress(value=0, max=375), HTML(value='')))"
      ]
     },
     "metadata": {},
     "output_type": "display_data"
    },
    {
     "name": "stdout",
     "output_type": "stream",
     "text": [
      "\n",
      "2019-08-03 11:27:24,859 - opytimizer.optimizers.fa — INFO — Fitness: 0.0315833333333333\n",
      "2019-08-03 11:27:24,861 - opytimizer.optimizers.fa — INFO — Position: [[1.65691212e+01]\n",
      " [7.34324366e+00]\n",
      " [1.85656710e+01]\n",
      " [6.82566357e+00]\n",
      " [1.89259046e-03]\n",
      " [2.44379537e-01]]\n",
      "2019-08-03 11:27:24,862 - opytimizer.optimizers.fa — INFO — Iteration 2/2\n",
      "ConvNet(\n",
      "  (conv1): Conv2d(1, 17, kernel_size=(7, 7), stride=(1, 1))\n",
      "  (conv2): Conv2d(17, 19, kernel_size=(7, 7), stride=(1, 1))\n",
      "  (conv2_drop): Dropout2d(p=0.5)\n",
      "  (fc1): Linear(in_features=76, out_features=50, bias=True)\n",
      "  (fc2): Linear(in_features=50, out_features=10, bias=True)\n",
      ")\n"
     ]
    },
    {
     "data": {
      "application/vnd.jupyter.widget-view+json": {
       "model_id": "fc4b7654fc2d4588ace8a3c73f717d72",
       "version_major": 2,
       "version_minor": 0
      },
      "text/plain": [
       "HBox(children=(IntProgress(value=0, max=375), HTML(value='')))"
      ]
     },
     "metadata": {},
     "output_type": "display_data"
    },
    {
     "name": "stdout",
     "output_type": "stream",
     "text": [
      "\n"
     ]
    },
    {
     "data": {
      "application/vnd.jupyter.widget-view+json": {
       "model_id": "a694e0e3f5a44a919065483ea91f1ddf",
       "version_major": 2,
       "version_minor": 0
      },
      "text/plain": [
       "HBox(children=(IntProgress(value=0, max=375), HTML(value='')))"
      ]
     },
     "metadata": {},
     "output_type": "display_data"
    },
    {
     "name": "stdout",
     "output_type": "stream",
     "text": [
      "\n"
     ]
    },
    {
     "data": {
      "application/vnd.jupyter.widget-view+json": {
       "model_id": "d6f07d928270492ab9b6ceec2cde9ad0",
       "version_major": 2,
       "version_minor": 0
      },
      "text/plain": [
       "HBox(children=(IntProgress(value=0, max=375), HTML(value='')))"
      ]
     },
     "metadata": {},
     "output_type": "display_data"
    },
    {
     "name": "stdout",
     "output_type": "stream",
     "text": [
      "\n",
      "ConvNet(\n",
      "  (conv1): Conv2d(1, 1, kernel_size=(2, 2), stride=(1, 1))\n",
      "  (conv2): Conv2d(1, 1, kernel_size=(2, 2), stride=(1, 1))\n",
      "  (conv2_drop): Dropout2d(p=0.5)\n",
      "  (fc1): Linear(in_features=36, out_features=50, bias=True)\n",
      "  (fc2): Linear(in_features=50, out_features=10, bias=True)\n",
      ")\n"
     ]
    },
    {
     "data": {
      "application/vnd.jupyter.widget-view+json": {
       "model_id": "8b02d08f253c4cf68c9792aac1b8d02a",
       "version_major": 2,
       "version_minor": 0
      },
      "text/plain": [
       "HBox(children=(IntProgress(value=0, max=375), HTML(value='')))"
      ]
     },
     "metadata": {},
     "output_type": "display_data"
    },
    {
     "name": "stdout",
     "output_type": "stream",
     "text": [
      "\n"
     ]
    },
    {
     "data": {
      "application/vnd.jupyter.widget-view+json": {
       "model_id": "26b9819b80be4932a3183c175c0839f4",
       "version_major": 2,
       "version_minor": 0
      },
      "text/plain": [
       "HBox(children=(IntProgress(value=0, max=375), HTML(value='')))"
      ]
     },
     "metadata": {},
     "output_type": "display_data"
    },
    {
     "name": "stdout",
     "output_type": "stream",
     "text": [
      "\n"
     ]
    },
    {
     "data": {
      "application/vnd.jupyter.widget-view+json": {
       "model_id": "2c3e4324b4db4115bd34954b1e952d7e",
       "version_major": 2,
       "version_minor": 0
      },
      "text/plain": [
       "HBox(children=(IntProgress(value=0, max=375), HTML(value='')))"
      ]
     },
     "metadata": {},
     "output_type": "display_data"
    },
    {
     "name": "stdout",
     "output_type": "stream",
     "text": [
      "\n",
      "2019-08-03 11:29:23,273 - opytimizer.optimizers.fa — INFO — Fitness: 0.0315833333333333\n",
      "2019-08-03 11:29:23,274 - opytimizer.optimizers.fa — INFO — Position: [[1.65691212e+01]\n",
      " [7.34324366e+00]\n",
      " [1.85656710e+01]\n",
      " [6.82566357e+00]\n",
      " [1.89259046e-03]\n",
      " [2.44379537e-01]]\n",
      "2019-08-03 11:29:23,275 - opytimizer.opytimizer — INFO — Optimization task ended.\n",
      "2019-08-03 11:29:23,276 - opytimizer.opytimizer — INFO — It took 343.79387497901917 seconds.\n",
      "343.816556930542\n"
     ]
    }
   ],
   "source": [
    "from opytimizer.optimizers.fa import FA\n",
    "from models import utils\n",
    "\n",
    "BATCH_SIZE = 128\n",
    "N_AGENTS = 2\n",
    "N_ITERATIONS = 2\n",
    "\n",
    "train_loader, val_loader, tst_loader = datasets.mnist_loaders(BATCH_SIZE, trn_split_sz=0.8)\n",
    "\n",
    "target_fn = make_target_fn('./trained/firefly',\n",
    "                           device,\n",
    "                           ConvNet,\n",
    "                           train_loader,\n",
    "                           val_loader,\n",
    "                           n_epochs=3,\n",
    "                           image_sz=28,\n",
    "                           n_classes=10,\n",
    "                           hyperparams=ConvNet.learnable_hyperparams())\n",
    "                            # -> filters_1, kernel_1, filters_2, kernel_2\n",
    "\n",
    "# filters_1, kernel_1, filters_2, kernel_2, lr, momentum\n",
    "lower_bound = [1, 2, 1, 2, 1e-3, 0]\n",
    "upper_bound = [20, 9, 20, 9, 1e-2, 1]\n",
    "\n",
    "n_variables = len(lower_bound)\n",
    "meta_hyperparams = dict(alpha=0.5, beta=0.2, gamma=1.0)\n",
    "\n",
    "start = time.time()\n",
    "history = utils.optimize(FA,\n",
    "                         target=target_fn,\n",
    "                         n_agents=N_AGENTS,\n",
    "                         n_variables=n_variables,\n",
    "                         n_iterations=N_ITERATIONS,\n",
    "                         lb=lower_bound,\n",
    "                         ub=upper_bound,\n",
    "                         hyperparams=meta_hyperparams)\n",
    "end = time.time() - start\n",
    "print(end)"
   ]
  },
  {
   "cell_type": "code",
   "execution_count": 5,
   "metadata": {},
   "outputs": [
    {
     "name": "stdout",
     "output_type": "stream",
     "text": [
      "2     0.0315833333333333\n",
      "0     0.03416666666666668\n"
     ]
    }
   ],
   "source": [
    "top_indices, top_fitness = utils.get_top_models(scoreboard, 2)\n",
    "for ti, tf in zip(top_indices, top_fitness):\n",
    "    print(f'{ti:<5} {tf:5}')\n",
    "\n",
    "\n",
    "best_models = utils.load_models('./trained/firefly', top_indices)\n",
    "for idx, model in zip(top_indices, best_models):\n",
    "    utils.predict_persist(model, val_loader, device, f'predictions/firefly_{idx}.txt')\n",
    "\n",
    "utils.store_labels(val_loader, './predictions/labels.txt')"
   ]
  }
 ],
 "metadata": {
  "kernelspec": {
   "display_name": "Python 3",
   "language": "python",
   "name": "python3"
  },
  "language_info": {
   "codemirror_mode": {
    "name": "ipython",
    "version": 3
   },
   "file_extension": ".py",
   "mimetype": "text/x-python",
   "name": "python",
   "nbconvert_exporter": "python",
   "pygments_lexer": "ipython3",
   "version": "3.6.8"
  }
 },
 "nbformat": 4,
 "nbformat_minor": 4
}
