{
 "cells": [
  {
   "cell_type": "code",
   "execution_count": 1,
   "metadata": {},
   "outputs": [],
   "source": [
    "%load_ext autoreload\n",
    "%autoreload 2\n",
    "\n",
    "import time\n",
    "\n",
    "import numpy as np\n",
    "import torch\n",
    "from torch.nn import functional as F\n",
    "from torch import optim as torch_opt\n",
    "\n",
    "from flare import trainer\n",
    "from flare.callbacks import Checkpoint\n",
    "\n",
    "from models.mnist import ConvNet"
   ]
  },
  {
   "cell_type": "code",
   "execution_count": 2,
   "metadata": {},
   "outputs": [],
   "source": [
    "def _ceil(x):\n",
    "    return int(np.round(x))\n",
    "\n",
    "callno = 0\n",
    "scoreboard = dict()\n",
    "def make_target_fn(model_prefix, _device, model_class, trn_gen, val_gen, n_epochs, image_sz, n_classes, hyperparams):\n",
    "    def target_fn(hyperparam_values):\n",
    "        global callno\n",
    "        global scoreboard\n",
    "\n",
    "        # Ensuring that hyperparams is a 1D-tensor\n",
    "        hyperparam_values = np.asarray(hyperparam_values).ravel()\n",
    "\n",
    "        model_hyperparams = {hname: _ceil(hvalue) for hname, hvalue in zip(hyperparams, hyperparam_values)}\n",
    "        model = model_class(image_sz, n_classes, **model_hyperparams)\n",
    "        model = model.to(_device)\n",
    "        loss_fn = F.nll_loss\n",
    "\n",
    "        # The last hyperparam is the learning rate. We could use momentum, whatever as well\n",
    "        nn_optimizer = torch_opt.SGD(model.parameters(), lr=hyperparam_values[-1], momentum=hyperparam_values[-2])\n",
    "\n",
    "        filename = '{}_{}'.format(model_prefix, callno)\n",
    "        cbs = [Checkpoint('val_accuracy', min_delta=1e-3, filename=filename, save_best=True, increasing=True)]\n",
    "\n",
    "        # Training\n",
    "        history = trainer.train_on_loader(model, trn_gen, val_gen, loss_fn, nn_optimizer,\n",
    "                                          n_epochs=n_epochs, batch_first=True, device=_device,\n",
    "                                          callbacks=cbs)\n",
    "        \n",
    "        # Getting the best model during training to evaluate\n",
    "        best_model = torch.load(filename + '.pth').to(_device)\n",
    "        eval_metrics = trainer.evaluate_on_loader(best_model, val_gen, loss_fn, batch_first=True,\n",
    "                                                  device=_device, verbosity=0)\n",
    "        \n",
    "        # Opytimizer minimizes functions\n",
    "        fitness = 1 - eval_metrics['accuracy']\n",
    "        scoreboard[callno] = fitness\n",
    "        callno += 1        \n",
    "        return fitness\n",
    "    return target_fn"
   ]
  },
  {
   "cell_type": "code",
   "execution_count": 3,
   "metadata": {},
   "outputs": [],
   "source": [
    "device = torch.device('cpu')\n",
    "pin_memory = False\n",
    "if torch.cuda.is_available():\n",
    "    device = torch.device('cuda')\n",
    "    pin_memory = True\n",
    "    torch.backends.cudnn.benchmark = True"
   ]
  },
  {
   "cell_type": "code",
   "execution_count": 38,
   "metadata": {},
   "outputs": [],
   "source": [
    "import torchvision\n",
    "BATCH_SIZE = 128\n",
    "\n",
    "train_loader = torch.utils.data.DataLoader(\n",
    "  torchvision.datasets.MNIST('../data/', train=True, download=True,\n",
    "                             transform=torchvision.transforms.Compose([\n",
    "                               torchvision.transforms.ToTensor(),\n",
    "                               torchvision.transforms.Normalize(\n",
    "                                 (0.1307,), (0.3081,))\n",
    "                             ])),\n",
    "  batch_size=BATCH_SIZE, shuffle=True, pin_memory=pin_memory)\n",
    "\n",
    "test_loader = torch.utils.data.DataLoader(\n",
    "  torchvision.datasets.MNIST('../data/', train=False, download=True,\n",
    "                             transform=torchvision.transforms.Compose([\n",
    "                               torchvision.transforms.ToTensor(),\n",
    "                               torchvision.transforms.Normalize(\n",
    "                                 (0.1307,), (0.3081,))\n",
    "                             ])),\n",
    "  batch_size=BATCH_SIZE, shuffle=False, pin_memory=pin_memory)"
   ]
  },
  {
   "cell_type": "code",
   "execution_count": 5,
   "metadata": {},
   "outputs": [
    {
     "name": "stdout",
     "output_type": "stream",
     "text": [
      "2019-08-02 10:05:05,513 - opytimizer.spaces.search — INFO — Overriding class: Space -> SearchSpace.\n",
      "2019-08-02 10:05:05,514 - opytimizer.core.space — DEBUG — Running private method: build().\n",
      "2019-08-02 10:05:05,515 - opytimizer.core.space — DEBUG — Running private method: check_bound_size().\n",
      "2019-08-02 10:05:05,515 - opytimizer.core.space — DEBUG — Bound checked.\n",
      "2019-08-02 10:05:05,516 - opytimizer.core.space — DEBUG — Running private method: check_bound_size().\n",
      "2019-08-02 10:05:05,517 - opytimizer.core.space — DEBUG — Bound checked.\n",
      "2019-08-02 10:05:05,518 - opytimizer.core.space — DEBUG — Running private method: create_agents().\n",
      "2019-08-02 10:05:05,518 - opytimizer.core.space — DEBUG — Agents: 2 | Size: (3, 1) | Iterations: 2 | Lower Bound: [1, 0.001, 0] | Upper Bound: [20, 0.01, 1] | Built: True.\n",
      "2019-08-02 10:05:05,519 - opytimizer.spaces.search — DEBUG — Running private method: initialize_agents().\n",
      "2019-08-02 10:05:05,520 - opytimizer.spaces.search — DEBUG — Agents initialized.\n",
      "2019-08-02 10:05:05,521 - opytimizer.spaces.search — INFO — Class overrided.\n",
      "2019-08-02 10:05:05,521 - opytimizer.optimizers.fa — INFO — Overriding class: Optimizer -> FA.\n",
      "2019-08-02 10:05:05,522 - opytimizer.optimizers.fa — DEBUG — Running private method: build().\n",
      "2019-08-02 10:05:05,522 - opytimizer.optimizers.fa — DEBUG — Algorithm: FA | Hyperparameters: alpha = 0.5, beta = 0.2, gamma = 1.0 | Built: True.\n",
      "2019-08-02 10:05:05,524 - opytimizer.optimizers.fa — INFO — Class overrided.\n",
      "2019-08-02 10:05:05,524 - opytimizer.core.function — INFO — Creating class: Function.\n",
      "2019-08-02 10:05:05,525 - opytimizer.core.function — DEBUG — Running private method: build().\n",
      "2019-08-02 10:05:05,526 - opytimizer.core.function — DEBUG — Pointer: <function make_target_fn.<locals>.target_fn at 0x7fd00280c9d8> | Built: True\n",
      "2019-08-02 10:05:05,527 - opytimizer.core.function — INFO — Class created.\n",
      "2019-08-02 10:05:05,528 - opytimizer.opytimizer — INFO — Creating class: Opytimizer.\n",
      "2019-08-02 10:05:05,529 - opytimizer.opytimizer — DEBUG — Space: <opytimizer.spaces.search.SearchSpace object at 0x7fd00280b9b0> | Optimizer: <opytimizer.optimizers.fa.FA object at 0x7fd002823ef0> | Function: <opytimizer.core.function.Function object at 0x7fd002043438>.\n",
      "2019-08-02 10:05:05,529 - opytimizer.opytimizer — INFO — Class created.\n",
      "2019-08-02 10:05:05,530 - opytimizer.opytimizer — INFO — Starting optimization task.\n"
     ]
    },
    {
     "data": {
      "application/vnd.jupyter.widget-view+json": {
       "model_id": "241735ab6ea44a7598536c58ae8a5a8a",
       "version_major": 2,
       "version_minor": 0
      },
      "text/plain": [
       "HBox(children=(IntProgress(value=0, max=469), HTML(value='')))"
      ]
     },
     "metadata": {},
     "output_type": "display_data"
    },
    {
     "name": "stdout",
     "output_type": "stream",
     "text": [
      "\n"
     ]
    },
    {
     "data": {
      "application/vnd.jupyter.widget-view+json": {
       "model_id": "f6c1c836fd3f45948a8e608253230046",
       "version_major": 2,
       "version_minor": 0
      },
      "text/plain": [
       "HBox(children=(IntProgress(value=0, max=469), HTML(value='')))"
      ]
     },
     "metadata": {},
     "output_type": "display_data"
    },
    {
     "name": "stdout",
     "output_type": "stream",
     "text": [
      "\n"
     ]
    },
    {
     "data": {
      "application/vnd.jupyter.widget-view+json": {
       "model_id": "5869c07fad6e4b539049acf0d7639a39",
       "version_major": 2,
       "version_minor": 0
      },
      "text/plain": [
       "HBox(children=(IntProgress(value=0, max=469), HTML(value='')))"
      ]
     },
     "metadata": {},
     "output_type": "display_data"
    },
    {
     "name": "stdout",
     "output_type": "stream",
     "text": [
      "\n"
     ]
    },
    {
     "data": {
      "application/vnd.jupyter.widget-view+json": {
       "model_id": "88d1062b1ef941f1a78de30563289cc6",
       "version_major": 2,
       "version_minor": 0
      },
      "text/plain": [
       "HBox(children=(IntProgress(value=0, max=469), HTML(value='')))"
      ]
     },
     "metadata": {},
     "output_type": "display_data"
    },
    {
     "name": "stdout",
     "output_type": "stream",
     "text": [
      "\n"
     ]
    },
    {
     "data": {
      "application/vnd.jupyter.widget-view+json": {
       "model_id": "20b7d58f6ac845cb93c8489d5237dbe3",
       "version_major": 2,
       "version_minor": 0
      },
      "text/plain": [
       "HBox(children=(IntProgress(value=0, max=469), HTML(value='')))"
      ]
     },
     "metadata": {},
     "output_type": "display_data"
    },
    {
     "name": "stdout",
     "output_type": "stream",
     "text": [
      "\n"
     ]
    },
    {
     "data": {
      "application/vnd.jupyter.widget-view+json": {
       "model_id": "58f6336874284297a4cabd36081711b3",
       "version_major": 2,
       "version_minor": 0
      },
      "text/plain": [
       "HBox(children=(IntProgress(value=0, max=469), HTML(value='')))"
      ]
     },
     "metadata": {},
     "output_type": "display_data"
    },
    {
     "name": "stdout",
     "output_type": "stream",
     "text": [
      "\n",
      "2019-08-02 10:07:12,398 - opytimizer.optimizers.fa — INFO — Iteration 1/2\n"
     ]
    },
    {
     "data": {
      "application/vnd.jupyter.widget-view+json": {
       "model_id": "02e993d88d21458dac76879b180413d3",
       "version_major": 2,
       "version_minor": 0
      },
      "text/plain": [
       "HBox(children=(IntProgress(value=0, max=469), HTML(value='')))"
      ]
     },
     "metadata": {},
     "output_type": "display_data"
    },
    {
     "name": "stdout",
     "output_type": "stream",
     "text": [
      "\n"
     ]
    },
    {
     "data": {
      "application/vnd.jupyter.widget-view+json": {
       "model_id": "b8bdd8afa3594ca9be4837a4054a0960",
       "version_major": 2,
       "version_minor": 0
      },
      "text/plain": [
       "HBox(children=(IntProgress(value=0, max=469), HTML(value='')))"
      ]
     },
     "metadata": {},
     "output_type": "display_data"
    },
    {
     "name": "stdout",
     "output_type": "stream",
     "text": [
      "\n"
     ]
    },
    {
     "data": {
      "application/vnd.jupyter.widget-view+json": {
       "model_id": "26d010875323458eb6640887da5a45b7",
       "version_major": 2,
       "version_minor": 0
      },
      "text/plain": [
       "HBox(children=(IntProgress(value=0, max=469), HTML(value='')))"
      ]
     },
     "metadata": {},
     "output_type": "display_data"
    },
    {
     "name": "stdout",
     "output_type": "stream",
     "text": [
      "\n"
     ]
    },
    {
     "data": {
      "application/vnd.jupyter.widget-view+json": {
       "model_id": "fe095f4658ad47e0904ddb2877c459a6",
       "version_major": 2,
       "version_minor": 0
      },
      "text/plain": [
       "HBox(children=(IntProgress(value=0, max=469), HTML(value='')))"
      ]
     },
     "metadata": {},
     "output_type": "display_data"
    },
    {
     "name": "stdout",
     "output_type": "stream",
     "text": [
      "\n"
     ]
    },
    {
     "data": {
      "application/vnd.jupyter.widget-view+json": {
       "model_id": "32387f8cd5ca44ce8c96d46b7760c7e6",
       "version_major": 2,
       "version_minor": 0
      },
      "text/plain": [
       "HBox(children=(IntProgress(value=0, max=469), HTML(value='')))"
      ]
     },
     "metadata": {},
     "output_type": "display_data"
    },
    {
     "name": "stdout",
     "output_type": "stream",
     "text": [
      "\n"
     ]
    },
    {
     "data": {
      "application/vnd.jupyter.widget-view+json": {
       "model_id": "6eec13051fc04c4ea1694703e0a64b33",
       "version_major": 2,
       "version_minor": 0
      },
      "text/plain": [
       "HBox(children=(IntProgress(value=0, max=469), HTML(value='')))"
      ]
     },
     "metadata": {},
     "output_type": "display_data"
    },
    {
     "name": "stdout",
     "output_type": "stream",
     "text": [
      "\n",
      "2019-08-02 10:09:19,837 - opytimizer.optimizers.fa — INFO — Fitness: 0.021100000000000008\n",
      "2019-08-02 10:09:19,838 - opytimizer.optimizers.fa — INFO — Position: [[1.02040917e+01]\n",
      " [7.02968199e-03]\n",
      " [4.35869458e-01]]\n",
      "2019-08-02 10:09:19,839 - opytimizer.optimizers.fa — INFO — Iteration 2/2\n"
     ]
    },
    {
     "data": {
      "application/vnd.jupyter.widget-view+json": {
       "model_id": "4dc0b4ed85424da6a99ec868a2dfd7c0",
       "version_major": 2,
       "version_minor": 0
      },
      "text/plain": [
       "HBox(children=(IntProgress(value=0, max=469), HTML(value='')))"
      ]
     },
     "metadata": {},
     "output_type": "display_data"
    },
    {
     "name": "stdout",
     "output_type": "stream",
     "text": [
      "\n"
     ]
    },
    {
     "data": {
      "application/vnd.jupyter.widget-view+json": {
       "model_id": "6218fe7f393b42869cc7824507b34ef7",
       "version_major": 2,
       "version_minor": 0
      },
      "text/plain": [
       "HBox(children=(IntProgress(value=0, max=469), HTML(value='')))"
      ]
     },
     "metadata": {},
     "output_type": "display_data"
    },
    {
     "name": "stdout",
     "output_type": "stream",
     "text": [
      "\n"
     ]
    },
    {
     "data": {
      "application/vnd.jupyter.widget-view+json": {
       "model_id": "ef856f66fe0d4d5a8f0f683a01f07054",
       "version_major": 2,
       "version_minor": 0
      },
      "text/plain": [
       "HBox(children=(IntProgress(value=0, max=469), HTML(value='')))"
      ]
     },
     "metadata": {},
     "output_type": "display_data"
    },
    {
     "name": "stdout",
     "output_type": "stream",
     "text": [
      "\n"
     ]
    },
    {
     "data": {
      "application/vnd.jupyter.widget-view+json": {
       "model_id": "7db60b88f06547b69586f2f338348cf5",
       "version_major": 2,
       "version_minor": 0
      },
      "text/plain": [
       "HBox(children=(IntProgress(value=0, max=469), HTML(value='')))"
      ]
     },
     "metadata": {},
     "output_type": "display_data"
    },
    {
     "name": "stdout",
     "output_type": "stream",
     "text": [
      "\n"
     ]
    },
    {
     "data": {
      "application/vnd.jupyter.widget-view+json": {
       "model_id": "13f9b53255364ccd8c02316e7fe5f9b7",
       "version_major": 2,
       "version_minor": 0
      },
      "text/plain": [
       "HBox(children=(IntProgress(value=0, max=469), HTML(value='')))"
      ]
     },
     "metadata": {},
     "output_type": "display_data"
    },
    {
     "name": "stdout",
     "output_type": "stream",
     "text": [
      "\n"
     ]
    },
    {
     "data": {
      "application/vnd.jupyter.widget-view+json": {
       "model_id": "9870e966d2944f2e81697694178374d1",
       "version_major": 2,
       "version_minor": 0
      },
      "text/plain": [
       "HBox(children=(IntProgress(value=0, max=469), HTML(value='')))"
      ]
     },
     "metadata": {},
     "output_type": "display_data"
    },
    {
     "name": "stdout",
     "output_type": "stream",
     "text": [
      "\n",
      "2019-08-02 10:11:24,709 - opytimizer.optimizers.fa — INFO — Fitness: 0.021100000000000008\n",
      "2019-08-02 10:11:24,710 - opytimizer.optimizers.fa — INFO — Position: [[1.02040917e+01]\n",
      " [7.02968199e-03]\n",
      " [4.35869458e-01]]\n",
      "2019-08-02 10:11:24,710 - opytimizer.opytimizer — INFO — Optimization task ended.\n",
      "2019-08-02 10:11:24,712 - opytimizer.opytimizer — INFO — It took 379.1794002056122 seconds.\n",
      "379.19931197166443\n"
     ]
    }
   ],
   "source": [
    "from opytimizer.optimizers.fa import FA\n",
    "from models import utils\n",
    "\n",
    "target_fn = make_target_fn('./trained/firefly',\n",
    "                           device,\n",
    "                           ConvNet,\n",
    "                           train_loader,\n",
    "                           test_loader,\n",
    "                           n_epochs=3,\n",
    "                           image_sz=28,\n",
    "                           n_classes=10,\n",
    "                           hyperparams=['filters_1'])\n",
    "\n",
    "N_AGENTS = 2\n",
    "N_ITERATIONS = 2\n",
    "# filter_1, lr, momentum\n",
    "lower_bound = [1, 1e-3, 0]\n",
    "upper_bound = [20, 1e-2, 1]\n",
    "\n",
    "assert len(lower_bound) == len(upper_bound)\n",
    "\n",
    "n_variables = len(lower_bound)\n",
    "meta_hyperparams = dict(alpha=0.5, beta=0.2, gamma=1.0)\n",
    "\n",
    "start = time.time()\n",
    "history = utils.optimize(FA,\n",
    "                         target=target_fn,\n",
    "                         n_agents=N_AGENTS,\n",
    "                         n_variables=n_variables,\n",
    "                         n_iterations=N_ITERATIONS,\n",
    "                         lb=lower_bound,\n",
    "                         ub=upper_bound,\n",
    "                         hyperparams=meta_hyperparams)\n",
    "end = time.time() - start\n",
    "print(end)"
   ]
  },
  {
   "cell_type": "code",
   "execution_count": 21,
   "metadata": {},
   "outputs": [],
   "source": [
    "top_indices, top_fitness = utils.get_top_models(scoreboard, 2)\n",
    "for ti, tf in zip(top_indices, top_fitness):\n",
    "    print(f'{ti:<5} {tf:5}')\n",
    "\n",
    "\n",
    "best_models = utils.load_models('./trained', 'firefly', top_indices)\n",
    "for idx, model in zip(top_indices, best_models):\n",
    "    utils.predict_persist(model, test_loader, device, f'predictions/firefly_{idx}.txt')\n",
    "\n",
    "utils.store_labels(test_loader, './predictions/labels.txt')"
   ]
  }
 ],
 "metadata": {
  "kernelspec": {
   "display_name": "Python 3",
   "language": "python",
   "name": "python3"
  },
  "language_info": {
   "codemirror_mode": {
    "name": "ipython",
    "version": 3
   },
   "file_extension": ".py",
   "mimetype": "text/x-python",
   "name": "python",
   "nbconvert_exporter": "python",
   "pygments_lexer": "ipython3",
   "version": "3.6.8"
  }
 },
 "nbformat": 4,
 "nbformat_minor": 4
}
