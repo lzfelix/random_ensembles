{
 "cells": [
  {
   "cell_type": "code",
   "execution_count": 1,
   "metadata": {},
   "outputs": [],
   "source": [
    "%load_ext autoreload\n",
    "%autoreload 2\n",
    "\n",
    "import time\n",
    "\n",
    "import numpy as np\n",
    "import torch\n",
    "from torch.nn import functional as F\n",
    "from torch import optim as torch_opt\n",
    "\n",
    "from flare import trainer\n",
    "from flare.callbacks import Checkpoint\n",
    "\n",
    "from models.mnist import ConvNet\n",
    "from models import datasets\n",
    "\n",
    "device = torch.device('cpu')\n",
    "pin_memory = False\n",
    "if torch.cuda.is_available():\n",
    "    device = torch.device('cuda')\n",
    "    pin_memory = True\n",
    "    torch.backends.cudnn.benchmark = True"
   ]
  },
  {
   "cell_type": "code",
   "execution_count": 2,
   "metadata": {},
   "outputs": [],
   "source": [
    "def _ceil(x):\n",
    "    return int(np.round(x))\n",
    "\n",
    "callno = 0\n",
    "scoreboard = dict()\n",
    "def make_target_fn(model_prefix, _device, model_class, trn_gen, val_gen, n_epochs, image_sz, n_classes, hyperparams):\n",
    "    def target_fn(hyperparam_values):\n",
    "        global callno\n",
    "        global scoreboard\n",
    "\n",
    "        # Ensuring that hyperparams is a 1D-tensor\n",
    "        hyperparam_values = np.asarray(hyperparam_values).ravel()\n",
    "\n",
    "        model_hyperparams = {hname: _ceil(hvalue) for hname, hvalue in zip(hyperparams, hyperparam_values)}\n",
    "        model = model_class(image_sz, n_classes, **model_hyperparams)\n",
    "        model = model.to(_device)\n",
    "        loss_fn = F.nll_loss\n",
    "\n",
    "        # The last hyperparam is the learning rate. We could use momentum, whatever as well\n",
    "        nn_optimizer = torch_opt.SGD(model.parameters(), lr=hyperparam_values[-1], momentum=hyperparam_values[-2])\n",
    "\n",
    "        filename = '{}_{}'.format(model_prefix, callno)\n",
    "        cbs = [Checkpoint('val_accuracy', min_delta=1e-3, filename=filename, save_best=True, increasing=True)]\n",
    "\n",
    "        # Training\n",
    "        history = trainer.train_on_loader(model, trn_gen, val_gen, loss_fn, nn_optimizer,\n",
    "                                          n_epochs=n_epochs, batch_first=True, device=_device,\n",
    "                                          callbacks=cbs)\n",
    "        \n",
    "        # Getting the best model during training to evaluate\n",
    "        best_model = torch.load(filename + '.pth').to(_device)\n",
    "        eval_metrics = trainer.evaluate_on_loader(best_model, val_gen, loss_fn, batch_first=True,\n",
    "                                                  device=_device, verbosity=0)\n",
    "        \n",
    "        # Opytimizer minimizes functions\n",
    "        fitness = 1 - eval_metrics['accuracy']\n",
    "        scoreboard[callno] = fitness\n",
    "        callno += 1        \n",
    "        return fitness\n",
    "    return target_fn"
   ]
  },
  {
   "cell_type": "code",
   "execution_count": 4,
   "metadata": {},
   "outputs": [
    {
     "name": "stdout",
     "output_type": "stream",
     "text": [
      "2019-08-02 13:36:15,036 - opytimizer.spaces.search — INFO — Overriding class: Space -> SearchSpace.\n",
      "2019-08-02 13:36:15,039 - opytimizer.core.space — DEBUG — Running private method: build().\n",
      "2019-08-02 13:36:15,040 - opytimizer.core.space — DEBUG — Running private method: check_bound_size().\n",
      "2019-08-02 13:36:15,040 - opytimizer.core.space — DEBUG — Bound checked.\n",
      "2019-08-02 13:36:15,041 - opytimizer.core.space — DEBUG — Running private method: check_bound_size().\n",
      "2019-08-02 13:36:15,041 - opytimizer.core.space — DEBUG — Bound checked.\n",
      "2019-08-02 13:36:15,042 - opytimizer.core.space — DEBUG — Running private method: create_agents().\n",
      "2019-08-02 13:36:15,043 - opytimizer.core.space — DEBUG — Agents: 2 | Size: (3, 1) | Iterations: 2 | Lower Bound: [1, 0.001, 0] | Upper Bound: [20, 0.01, 1] | Built: True.\n",
      "2019-08-02 13:36:15,044 - opytimizer.spaces.search — DEBUG — Running private method: initialize_agents().\n",
      "2019-08-02 13:36:15,045 - opytimizer.spaces.search — DEBUG — Agents initialized.\n",
      "2019-08-02 13:36:15,046 - opytimizer.spaces.search — INFO — Class overrided.\n",
      "2019-08-02 13:36:15,047 - opytimizer.optimizers.fa — INFO — Overriding class: Optimizer -> FA.\n",
      "2019-08-02 13:36:15,048 - opytimizer.optimizers.fa — DEBUG — Running private method: build().\n",
      "2019-08-02 13:36:15,048 - opytimizer.optimizers.fa — DEBUG — Algorithm: FA | Hyperparameters: alpha = 0.5, beta = 0.2, gamma = 1.0 | Built: True.\n",
      "2019-08-02 13:36:15,049 - opytimizer.optimizers.fa — INFO — Class overrided.\n",
      "2019-08-02 13:36:15,050 - opytimizer.core.function — INFO — Creating class: Function.\n",
      "2019-08-02 13:36:15,051 - opytimizer.core.function — DEBUG — Running private method: build().\n",
      "2019-08-02 13:36:15,052 - opytimizer.core.function — DEBUG — Pointer: <function make_target_fn.<locals>.target_fn at 0x7f9140605510> | Built: True\n",
      "2019-08-02 13:36:15,052 - opytimizer.core.function — INFO — Class created.\n",
      "2019-08-02 13:36:15,053 - opytimizer.opytimizer — INFO — Creating class: Opytimizer.\n",
      "2019-08-02 13:36:15,054 - opytimizer.opytimizer — DEBUG — Space: <opytimizer.spaces.search.SearchSpace object at 0x7f9141a8a828> | Optimizer: <opytimizer.optimizers.fa.FA object at 0x7f9141a9f588> | Function: <opytimizer.core.function.Function object at 0x7f9141a86a58>.\n",
      "2019-08-02 13:36:15,055 - opytimizer.opytimizer — INFO — Class created.\n",
      "2019-08-02 13:36:15,055 - opytimizer.opytimizer — INFO — Starting optimization task.\n"
     ]
    },
    {
     "data": {
      "application/vnd.jupyter.widget-view+json": {
       "model_id": "fa55719c4c1845b9bfcb68ee3ee5fc21",
       "version_major": 2,
       "version_minor": 0
      },
      "text/plain": [
       "HBox(children=(IntProgress(value=0, max=375), HTML(value='')))"
      ]
     },
     "metadata": {},
     "output_type": "display_data"
    },
    {
     "name": "stdout",
     "output_type": "stream",
     "text": [
      "\n"
     ]
    },
    {
     "data": {
      "application/vnd.jupyter.widget-view+json": {
       "model_id": "ea9965a40e294cb783cc196884a328b4",
       "version_major": 2,
       "version_minor": 0
      },
      "text/plain": [
       "HBox(children=(IntProgress(value=0, max=375), HTML(value='')))"
      ]
     },
     "metadata": {},
     "output_type": "display_data"
    },
    {
     "name": "stdout",
     "output_type": "stream",
     "text": [
      "\n"
     ]
    },
    {
     "data": {
      "application/vnd.jupyter.widget-view+json": {
       "model_id": "50c50149ea864967a6d7ef0c11118b8e",
       "version_major": 2,
       "version_minor": 0
      },
      "text/plain": [
       "HBox(children=(IntProgress(value=0, max=375), HTML(value='')))"
      ]
     },
     "metadata": {},
     "output_type": "display_data"
    },
    {
     "name": "stdout",
     "output_type": "stream",
     "text": [
      "\n"
     ]
    },
    {
     "data": {
      "application/vnd.jupyter.widget-view+json": {
       "model_id": "40d2f51a34824b08ac5e67bf50b0a01c",
       "version_major": 2,
       "version_minor": 0
      },
      "text/plain": [
       "HBox(children=(IntProgress(value=0, max=375), HTML(value='')))"
      ]
     },
     "metadata": {},
     "output_type": "display_data"
    },
    {
     "name": "stdout",
     "output_type": "stream",
     "text": [
      "\n"
     ]
    },
    {
     "data": {
      "application/vnd.jupyter.widget-view+json": {
       "model_id": "c1a269de92984ee18c64b166a54550d6",
       "version_major": 2,
       "version_minor": 0
      },
      "text/plain": [
       "HBox(children=(IntProgress(value=0, max=375), HTML(value='')))"
      ]
     },
     "metadata": {},
     "output_type": "display_data"
    },
    {
     "name": "stdout",
     "output_type": "stream",
     "text": [
      "\n"
     ]
    },
    {
     "data": {
      "application/vnd.jupyter.widget-view+json": {
       "model_id": "a2c281df675c4dbeaeaa13c26049b038",
       "version_major": 2,
       "version_minor": 0
      },
      "text/plain": [
       "HBox(children=(IntProgress(value=0, max=375), HTML(value='')))"
      ]
     },
     "metadata": {},
     "output_type": "display_data"
    },
    {
     "name": "stdout",
     "output_type": "stream",
     "text": [
      "\n",
      "2019-08-02 13:38:03,011 - opytimizer.optimizers.fa — INFO — Iteration 1/2\n"
     ]
    },
    {
     "data": {
      "application/vnd.jupyter.widget-view+json": {
       "model_id": "c426c5f272bb423a8db472c19f73c4ad",
       "version_major": 2,
       "version_minor": 0
      },
      "text/plain": [
       "HBox(children=(IntProgress(value=0, max=375), HTML(value='')))"
      ]
     },
     "metadata": {},
     "output_type": "display_data"
    },
    {
     "name": "stdout",
     "output_type": "stream",
     "text": [
      "\n"
     ]
    },
    {
     "data": {
      "application/vnd.jupyter.widget-view+json": {
       "model_id": "46f3811367424b9499720332bc037577",
       "version_major": 2,
       "version_minor": 0
      },
      "text/plain": [
       "HBox(children=(IntProgress(value=0, max=375), HTML(value='')))"
      ]
     },
     "metadata": {},
     "output_type": "display_data"
    },
    {
     "name": "stdout",
     "output_type": "stream",
     "text": [
      "\n"
     ]
    },
    {
     "data": {
      "application/vnd.jupyter.widget-view+json": {
       "model_id": "9a62b3e238d04cb69dc6433bc03babb4",
       "version_major": 2,
       "version_minor": 0
      },
      "text/plain": [
       "HBox(children=(IntProgress(value=0, max=375), HTML(value='')))"
      ]
     },
     "metadata": {},
     "output_type": "display_data"
    },
    {
     "name": "stdout",
     "output_type": "stream",
     "text": [
      "\n"
     ]
    },
    {
     "data": {
      "application/vnd.jupyter.widget-view+json": {
       "model_id": "d46abff25cd548fa92eb379a0c37ea47",
       "version_major": 2,
       "version_minor": 0
      },
      "text/plain": [
       "HBox(children=(IntProgress(value=0, max=375), HTML(value='')))"
      ]
     },
     "metadata": {},
     "output_type": "display_data"
    },
    {
     "name": "stdout",
     "output_type": "stream",
     "text": [
      "\n"
     ]
    },
    {
     "data": {
      "application/vnd.jupyter.widget-view+json": {
       "model_id": "395d7be52e6b497ba1202d805b4b0a30",
       "version_major": 2,
       "version_minor": 0
      },
      "text/plain": [
       "HBox(children=(IntProgress(value=0, max=375), HTML(value='')))"
      ]
     },
     "metadata": {},
     "output_type": "display_data"
    },
    {
     "name": "stdout",
     "output_type": "stream",
     "text": [
      "\n"
     ]
    },
    {
     "data": {
      "application/vnd.jupyter.widget-view+json": {
       "model_id": "d3d6f37a015d4089bf62154ccf24e22e",
       "version_major": 2,
       "version_minor": 0
      },
      "text/plain": [
       "HBox(children=(IntProgress(value=0, max=375), HTML(value='')))"
      ]
     },
     "metadata": {},
     "output_type": "display_data"
    },
    {
     "name": "stdout",
     "output_type": "stream",
     "text": [
      "\n",
      "2019-08-02 13:39:53,556 - opytimizer.optimizers.fa — INFO — Fitness: 0.021583333333333288\n",
      "2019-08-02 13:39:53,557 - opytimizer.optimizers.fa — INFO — Position: [[1.18033328e+01]\n",
      " [4.54766297e-03]\n",
      " [1.71350458e-01]]\n",
      "2019-08-02 13:39:53,558 - opytimizer.optimizers.fa — INFO — Iteration 2/2\n"
     ]
    },
    {
     "data": {
      "application/vnd.jupyter.widget-view+json": {
       "model_id": "c1445e4e4c5d461ab1dacca489e208ed",
       "version_major": 2,
       "version_minor": 0
      },
      "text/plain": [
       "HBox(children=(IntProgress(value=0, max=375), HTML(value='')))"
      ]
     },
     "metadata": {},
     "output_type": "display_data"
    },
    {
     "name": "stdout",
     "output_type": "stream",
     "text": [
      "\n"
     ]
    },
    {
     "data": {
      "application/vnd.jupyter.widget-view+json": {
       "model_id": "342ab68ebc594d12bcb39af39c54f1f2",
       "version_major": 2,
       "version_minor": 0
      },
      "text/plain": [
       "HBox(children=(IntProgress(value=0, max=375), HTML(value='')))"
      ]
     },
     "metadata": {},
     "output_type": "display_data"
    },
    {
     "name": "stdout",
     "output_type": "stream",
     "text": [
      "\n"
     ]
    },
    {
     "data": {
      "application/vnd.jupyter.widget-view+json": {
       "model_id": "7cb675279c514a8aaec9713a38edc06f",
       "version_major": 2,
       "version_minor": 0
      },
      "text/plain": [
       "HBox(children=(IntProgress(value=0, max=375), HTML(value='')))"
      ]
     },
     "metadata": {},
     "output_type": "display_data"
    },
    {
     "name": "stdout",
     "output_type": "stream",
     "text": [
      "\n"
     ]
    },
    {
     "data": {
      "application/vnd.jupyter.widget-view+json": {
       "model_id": "999254f00ba742318f7288b604ed4a36",
       "version_major": 2,
       "version_minor": 0
      },
      "text/plain": [
       "HBox(children=(IntProgress(value=0, max=375), HTML(value='')))"
      ]
     },
     "metadata": {},
     "output_type": "display_data"
    },
    {
     "name": "stdout",
     "output_type": "stream",
     "text": [
      "\n"
     ]
    },
    {
     "data": {
      "application/vnd.jupyter.widget-view+json": {
       "model_id": "505efaa776c741f682c7882ca815b94f",
       "version_major": 2,
       "version_minor": 0
      },
      "text/plain": [
       "HBox(children=(IntProgress(value=0, max=375), HTML(value='')))"
      ]
     },
     "metadata": {},
     "output_type": "display_data"
    },
    {
     "name": "stdout",
     "output_type": "stream",
     "text": [
      "\n"
     ]
    },
    {
     "data": {
      "application/vnd.jupyter.widget-view+json": {
       "model_id": "69c7b3c807ca4d7292fa2d5037efdeef",
       "version_major": 2,
       "version_minor": 0
      },
      "text/plain": [
       "HBox(children=(IntProgress(value=0, max=375), HTML(value='')))"
      ]
     },
     "metadata": {},
     "output_type": "display_data"
    },
    {
     "name": "stdout",
     "output_type": "stream",
     "text": [
      "\n",
      "2019-08-02 13:41:46,988 - opytimizer.optimizers.fa — INFO — Fitness: 0.021583333333333288\n",
      "2019-08-02 13:41:46,989 - opytimizer.optimizers.fa — INFO — Position: [[1.18033328e+01]\n",
      " [4.54766297e-03]\n",
      " [1.71350458e-01]]\n",
      "2019-08-02 13:41:46,990 - opytimizer.opytimizer — INFO — Optimization task ended.\n",
      "2019-08-02 13:41:46,991 - opytimizer.opytimizer — INFO — It took 331.9334080219269 seconds.\n",
      "331.9567131996155\n"
     ]
    }
   ],
   "source": [
    "from opytimizer.optimizers.fa import FA\n",
    "from models import utils\n",
    "\n",
    "BATCH_SIZE = 128\n",
    "N_AGENTS = 2\n",
    "N_ITERATIONS = 2\n",
    "\n",
    "train_loader, val_loader, tst_loader = datasets.mnist_laoders(BATCH_SIZE, trn_split_sz=0.8)\n",
    "\n",
    "target_fn = make_target_fn('./trained/firefly',\n",
    "                           device,\n",
    "                           ConvNet,\n",
    "                           train_loader,\n",
    "                           val_loader,\n",
    "                           n_epochs=3,\n",
    "                           image_sz=28,\n",
    "                           n_classes=10,\n",
    "                           hyperparams=['filters_1'])\n",
    "\n",
    "# filter_1, lr, momentum\n",
    "lower_bound = [1, 1e-3, 0]\n",
    "upper_bound = [20, 1e-2, 1]\n",
    "\n",
    "n_variables = len(lower_bound)\n",
    "meta_hyperparams = dict(alpha=0.5, beta=0.2, gamma=1.0)\n",
    "\n",
    "start = time.time()\n",
    "history = utils.optimize(FA,\n",
    "                         target=target_fn,\n",
    "                         n_agents=N_AGENTS,\n",
    "                         n_variables=n_variables,\n",
    "                         n_iterations=N_ITERATIONS,\n",
    "                         lb=lower_bound,\n",
    "                         ub=upper_bound,\n",
    "                         hyperparams=meta_hyperparams)\n",
    "end = time.time() - start\n",
    "print(end)"
   ]
  },
  {
   "cell_type": "code",
   "execution_count": 12,
   "metadata": {},
   "outputs": [
    {
     "name": "stdout",
     "output_type": "stream",
     "text": [
      "0     0.021583333333333288\n",
      "4     0.02300000000000002\n"
     ]
    }
   ],
   "source": [
    "top_indices, top_fitness = utils.get_top_models(scoreboard, 2)\n",
    "for ti, tf in zip(top_indices, top_fitness):\n",
    "    print(f'{ti:<5} {tf:5}')\n",
    "\n",
    "\n",
    "best_models = utils.load_models('./trained', 'firefly', top_indices)\n",
    "for idx, model in zip(top_indices, best_models):\n",
    "    utils.predict_persist(model, val_loader, device, f'predictions/firefly_{idx}.txt')\n",
    "\n",
    "utils.store_labels(val_loader, './predictions/labels.txt')"
   ]
  }
 ],
 "metadata": {
  "kernelspec": {
   "display_name": "Python 3",
   "language": "python",
   "name": "python3"
  },
  "language_info": {
   "codemirror_mode": {
    "name": "ipython",
    "version": 3
   },
   "file_extension": ".py",
   "mimetype": "text/x-python",
   "name": "python",
   "nbconvert_exporter": "python",
   "pygments_lexer": "ipython3",
   "version": "3.6.8"
  }
 },
 "nbformat": 4,
 "nbformat_minor": 4
}
