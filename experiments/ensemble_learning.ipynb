{
 "cells": [
  {
   "cell_type": "code",
   "execution_count": 1,
   "metadata": {},
   "outputs": [],
   "source": [
    "from typing import List\n",
    "import numpy as np\n",
    "\n",
    "from models import utils\n",
    "from models import ensemble\n",
    "\n",
    "y_true = utils.load_labels('./predictions/firefly_labels.txt')\n",
    "all_preds = [utils.load_predictions(f'./predictions/firefly_{midx}.txt') for midx in [1, 3, 5, 18]]\n",
    "all_preds = np.asarray(all_preds)\n",
    "\n",
    "ensemble_fun = ensemble.make_combination(all_preds, y_true)"
   ]
  },
  {
   "cell_type": "code",
   "execution_count": 2,
   "metadata": {},
   "outputs": [
    {
     "name": "stdout",
     "output_type": "stream",
     "text": [
      "2019-07-26 16:18:59,441 - opytimizer.spaces.search — INFO — Overriding class: Space -> SearchSpace.\n",
      "2019-07-26 16:18:59,442 - opytimizer.core.space — DEBUG — Running private method: build().\n",
      "2019-07-26 16:18:59,443 - opytimizer.core.space — DEBUG — Running private method: check_bound_size().\n",
      "2019-07-26 16:18:59,443 - opytimizer.core.space — DEBUG — Bound checked.\n",
      "2019-07-26 16:18:59,444 - opytimizer.core.space — DEBUG — Running private method: check_bound_size().\n",
      "2019-07-26 16:18:59,445 - opytimizer.core.space — DEBUG — Bound checked.\n",
      "2019-07-26 16:18:59,446 - opytimizer.core.space — DEBUG — Running private method: create_agents().\n",
      "2019-07-26 16:18:59,447 - opytimizer.core.space — DEBUG — Agents: 10 | Size: (4, 1) | Iterations: 10 | Lower Bound: [0, 0, 0, 0] | Upper Bound: [1, 1, 1, 1] | Built: True.\n",
      "2019-07-26 16:18:59,448 - opytimizer.spaces.search — DEBUG — Running private method: initialize_agents().\n",
      "2019-07-26 16:18:59,451 - opytimizer.spaces.search — DEBUG — Agents initialized.\n",
      "2019-07-26 16:18:59,452 - opytimizer.spaces.search — INFO — Class overrided.\n",
      "2019-07-26 16:18:59,452 - opytimizer.optimizers.pso — INFO — Overriding class: Optimizer -> PSO.\n",
      "2019-07-26 16:18:59,453 - opytimizer.optimizers.pso — DEBUG — Running private method: build().\n",
      "2019-07-26 16:18:59,454 - opytimizer.optimizers.pso — DEBUG — Algorithm: PSO | Hyperparameters: w = 1.7, c1 = 2, c2 = 1.7 | Built: True.\n",
      "2019-07-26 16:18:59,454 - opytimizer.optimizers.pso — INFO — Class overrided.\n",
      "2019-07-26 16:18:59,455 - opytimizer.core.function — INFO — Creating class: Function.\n",
      "2019-07-26 16:18:59,456 - opytimizer.core.function — DEBUG — Running private method: build().\n",
      "2019-07-26 16:18:59,458 - opytimizer.core.function — DEBUG — Pointer: <function make_combination.<locals>.fun at 0x7f36ec5a9158> | Built: True\n",
      "2019-07-26 16:18:59,459 - opytimizer.core.function — INFO — Class created.\n",
      "2019-07-26 16:18:59,459 - opytimizer.opytimizer — INFO — Creating class: Opytimizer.\n",
      "2019-07-26 16:18:59,460 - opytimizer.opytimizer — DEBUG — Space: <opytimizer.spaces.search.SearchSpace object at 0x7f36c2845c18> | Optimizer: <opytimizer.optimizers.pso.PSO object at 0x7f36c2854d30> | Function: <opytimizer.core.function.Function object at 0x7f36c2854d68>.\n",
      "2019-07-26 16:18:59,461 - opytimizer.opytimizer — INFO — Class created.\n",
      "2019-07-26 16:18:59,461 - opytimizer.opytimizer — INFO — Starting optimization task.\n",
      "2019-07-26 16:18:59,464 - opytimizer.optimizers.pso — INFO — Iteration 1/10\n",
      "2019-07-26 16:18:59,467 - opytimizer.optimizers.pso — INFO — Fitness: 0.10194174757281549\n",
      "2019-07-26 16:18:59,468 - opytimizer.optimizers.pso — INFO — Position: [[0.03621647]\n",
      " [0.        ]\n",
      " [0.        ]\n",
      " [1.        ]]\n",
      "2019-07-26 16:18:59,469 - opytimizer.optimizers.pso — INFO — Iteration 2/10\n",
      "2019-07-26 16:18:59,472 - opytimizer.optimizers.pso — INFO — Fitness: 0.10194174757281549\n",
      "2019-07-26 16:18:59,473 - opytimizer.optimizers.pso — INFO — Position: [[0.03621647]\n",
      " [0.        ]\n",
      " [0.        ]\n",
      " [1.        ]]\n",
      "2019-07-26 16:18:59,474 - opytimizer.optimizers.pso — INFO — Iteration 3/10\n",
      "2019-07-26 16:18:59,476 - opytimizer.optimizers.pso — INFO — Fitness: 0.10194174757281549\n",
      "2019-07-26 16:18:59,477 - opytimizer.optimizers.pso — INFO — Position: [[0.03621647]\n",
      " [0.        ]\n",
      " [0.        ]\n",
      " [1.        ]]\n",
      "2019-07-26 16:18:59,478 - opytimizer.optimizers.pso — INFO — Iteration 4/10\n",
      "2019-07-26 16:18:59,481 - opytimizer.optimizers.pso — INFO — Fitness: 0.10194174757281549\n",
      "2019-07-26 16:18:59,482 - opytimizer.optimizers.pso — INFO — Position: [[0.03621647]\n",
      " [0.        ]\n",
      " [0.        ]\n",
      " [1.        ]]\n",
      "2019-07-26 16:18:59,483 - opytimizer.optimizers.pso — INFO — Iteration 5/10\n",
      "2019-07-26 16:18:59,485 - opytimizer.optimizers.pso — INFO — Fitness: 0.10194174757281549\n",
      "2019-07-26 16:18:59,486 - opytimizer.optimizers.pso — INFO — Position: [[0.03621647]\n",
      " [0.        ]\n",
      " [0.        ]\n",
      " [1.        ]]\n",
      "2019-07-26 16:18:59,487 - opytimizer.optimizers.pso — INFO — Iteration 6/10\n",
      "2019-07-26 16:18:59,490 - opytimizer.optimizers.pso — INFO — Fitness: 0.10194174757281549\n",
      "2019-07-26 16:18:59,491 - opytimizer.optimizers.pso — INFO — Position: [[0.03621647]\n",
      " [0.        ]\n",
      " [0.        ]\n",
      " [1.        ]]\n",
      "2019-07-26 16:18:59,492 - opytimizer.optimizers.pso — INFO — Iteration 7/10\n",
      "2019-07-26 16:18:59,495 - opytimizer.optimizers.pso — INFO — Fitness: 0.10194174757281549\n",
      "2019-07-26 16:18:59,496 - opytimizer.optimizers.pso — INFO — Position: [[0.03621647]\n",
      " [0.        ]\n",
      " [0.        ]\n",
      " [1.        ]]\n",
      "2019-07-26 16:18:59,497 - opytimizer.optimizers.pso — INFO — Iteration 8/10\n",
      "2019-07-26 16:18:59,500 - opytimizer.optimizers.pso — INFO — Fitness: 0.10194174757281549\n",
      "2019-07-26 16:18:59,501 - opytimizer.optimizers.pso — INFO — Position: [[0.03621647]\n",
      " [0.        ]\n",
      " [0.        ]\n",
      " [1.        ]]\n",
      "2019-07-26 16:18:59,501 - opytimizer.optimizers.pso — INFO — Iteration 9/10\n",
      "2019-07-26 16:18:59,504 - opytimizer.optimizers.pso — INFO — Fitness: 0.10194174757281549\n",
      "2019-07-26 16:18:59,505 - opytimizer.optimizers.pso — INFO — Position: [[0.03621647]\n",
      " [0.        ]\n",
      " [0.        ]\n",
      " [1.        ]]\n",
      "2019-07-26 16:18:59,506 - opytimizer.optimizers.pso — INFO — Iteration 10/10\n",
      "2019-07-26 16:18:59,509 - opytimizer.optimizers.pso — INFO — Fitness: 0.10194174757281549\n",
      "2019-07-26 16:18:59,510 - opytimizer.optimizers.pso — INFO — Position: [[0.03621647]\n",
      " [0.        ]\n",
      " [0.        ]\n",
      " [1.        ]]\n",
      "2019-07-26 16:18:59,511 - opytimizer.opytimizer — INFO — Optimization task ended.\n",
      "2019-07-26 16:18:59,511 - opytimizer.opytimizer — INFO — It took 0.04844212532043457 seconds.\n"
     ]
    }
   ],
   "source": [
    "from opytimizer.optimizers.pso import PSO\n",
    "\n",
    "n_variables = all_preds.shape[0]\n",
    "lb = [0] * n_variables\n",
    "ub = [1] * n_variables\n",
    "hp = dict(w=1.7, c1=2, c2=1.7)\n",
    "\n",
    "history = utils.optimize(PSO,\n",
    "                         target=ensemble_fun,\n",
    "                         n_agents=10,\n",
    "                         n_variables=n_variables,\n",
    "                         n_iterations=10,\n",
    "                         lb=lb,\n",
    "                         ub=ub,\n",
    "                         hyperparams=hp)"
   ]
  },
  {
   "cell_type": "code",
   "execution_count": 3,
   "metadata": {},
   "outputs": [
    {
     "data": {
      "text/plain": [
       "0.8980582524271845"
      ]
     },
     "execution_count": 3,
     "metadata": {},
     "output_type": "execute_result"
    }
   ],
   "source": [
    "best_weights = np.asarray(history.best_agent[0][0]).flatten()\n",
    "ensemble.evaluate_ensemble(best_weights, all_preds, y_true)"
   ]
  }
 ],
 "metadata": {
  "kernelspec": {
   "display_name": "Python 3",
   "language": "python",
   "name": "python3"
  },
  "language_info": {
   "codemirror_mode": {
    "name": "ipython",
    "version": 3
   },
   "file_extension": ".py",
   "mimetype": "text/x-python",
   "name": "python",
   "nbconvert_exporter": "python",
   "pygments_lexer": "ipython3",
   "version": "3.6.8"
  }
 },
 "nbformat": 4,
 "nbformat_minor": 4
}
